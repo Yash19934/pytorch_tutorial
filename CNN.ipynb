{
  "nbformat": 4,
  "nbformat_minor": 0,
  "metadata": {
    "colab": {
      "provenance": [],
      "gpuType": "T4",
      "authorship_tag": "ABX9TyPV6JvWT/J+QFH7LubN7jkP",
      "include_colab_link": true
    },
    "kernelspec": {
      "name": "python3",
      "display_name": "Python 3"
    },
    "language_info": {
      "name": "python"
    },
    "accelerator": "GPU"
  },
  "cells": [
    {
      "cell_type": "markdown",
      "metadata": {
        "id": "view-in-github",
        "colab_type": "text"
      },
      "source": [
        "<a href=\"https://colab.research.google.com/github/Yash19934/pytorch_tutorial/blob/main/CNN.ipynb\" target=\"_parent\"><img src=\"https://colab.research.google.com/assets/colab-badge.svg\" alt=\"Open In Colab\"/></a>"
      ]
    },
    {
      "cell_type": "code",
      "execution_count": 29,
      "metadata": {
        "id": "2mmbifKj6FYu"
      },
      "outputs": [],
      "source": [
        "import torch\n",
        "import torch.nn as nn\n",
        "import torch.nn.functional as F\n",
        "from torch.utils.data import DataLoader\n",
        "from torchvision import datasets, transforms\n",
        "from torchvision.utils import make_grid\n",
        "import numpy as np\n",
        "import matplotlib.pyplot as plt\n",
        "%matplotlib inline\n",
        "import pandas as pd\n",
        "from sklearn.metrics import confusion_matrix"
      ]
    },
    {
      "cell_type": "code",
      "source": [
        "transform = transforms.ToTensor()"
      ],
      "metadata": {
        "id": "WkRGo8HXDZtR"
      },
      "execution_count": 30,
      "outputs": []
    },
    {
      "cell_type": "code",
      "source": [
        "train_data = datasets.MNIST(root = 'cnn_data', train = True, download = True, transform = transform)\n",
        "test_data = datasets.MNIST(root = 'cnn_data', train = False, download = True, transform = transform)"
      ],
      "metadata": {
        "collapsed": true,
        "id": "6KL50DlF7cU_"
      },
      "execution_count": 31,
      "outputs": []
    },
    {
      "cell_type": "code",
      "source": [
        "train_data"
      ],
      "metadata": {
        "colab": {
          "base_uri": "https://localhost:8080/"
        },
        "id": "f-Kyhp_P753l",
        "outputId": "a482889e-9c29-4693-aa81-67651d45fb7a"
      },
      "execution_count": 32,
      "outputs": [
        {
          "output_type": "execute_result",
          "data": {
            "text/plain": [
              "Dataset MNIST\n",
              "    Number of datapoints: 60000\n",
              "    Root location: cnn_data\n",
              "    Split: Train\n",
              "    StandardTransform\n",
              "Transform: ToTensor()"
            ]
          },
          "metadata": {},
          "execution_count": 32
        }
      ]
    },
    {
      "cell_type": "code",
      "source": [
        "test_data"
      ],
      "metadata": {
        "colab": {
          "base_uri": "https://localhost:8080/"
        },
        "id": "USV9ndCqLg4j",
        "outputId": "1f665cc7-cbf1-44ad-bdb3-af94f35a4fb5"
      },
      "execution_count": 33,
      "outputs": [
        {
          "output_type": "execute_result",
          "data": {
            "text/plain": [
              "Dataset MNIST\n",
              "    Number of datapoints: 10000\n",
              "    Root location: cnn_data\n",
              "    Split: Test\n",
              "    StandardTransform\n",
              "Transform: ToTensor()"
            ]
          },
          "metadata": {},
          "execution_count": 33
        }
      ]
    },
    {
      "cell_type": "code",
      "source": [
        "#batch size of 10\n",
        "\n",
        "batch_size = 10\n",
        "train_loader = DataLoader(train_data, batch_size = 10, shuffle = True)\n",
        "test_loader = DataLoader(test_data, batch_size = 10, shuffle = False)"
      ],
      "metadata": {
        "id": "U2KHfL31E0hD"
      },
      "execution_count": 34,
      "outputs": []
    },
    {
      "cell_type": "code",
      "source": [
        "#Define CNN model, 2 conv layers\n",
        "conv1 = nn.Conv2d(1,6,3,1)\n",
        "conv2 = nn.Conv2d(6, 16,3,1)"
      ],
      "metadata": {
        "id": "VGNJ5IflFusC"
      },
      "execution_count": 35,
      "outputs": []
    },
    {
      "cell_type": "code",
      "source": [
        "conv1"
      ],
      "metadata": {
        "colab": {
          "base_uri": "https://localhost:8080/"
        },
        "id": "kZRuWaJmGP9_",
        "outputId": "5d48d082-ef63-4522-e055-77626ea93b4b"
      },
      "execution_count": 36,
      "outputs": [
        {
          "output_type": "execute_result",
          "data": {
            "text/plain": [
              "Conv2d(1, 6, kernel_size=(3, 3), stride=(1, 1))"
            ]
          },
          "metadata": {},
          "execution_count": 36
        }
      ]
    },
    {
      "cell_type": "code",
      "source": [
        "for a,b in train_data:\n",
        "  print(a.shape)\n",
        "  print(b)\n",
        "  break"
      ],
      "metadata": {
        "colab": {
          "base_uri": "https://localhost:8080/"
        },
        "id": "zw8nqcHtGi6N",
        "outputId": "d1122fda-2a36-428c-a5b1-287e612b2694"
      },
      "execution_count": 37,
      "outputs": [
        {
          "output_type": "stream",
          "name": "stdout",
          "text": [
            "torch.Size([1, 28, 28])\n",
            "5\n"
          ]
        }
      ]
    },
    {
      "cell_type": "code",
      "source": [
        "for i, (X_train, y_train) in enumerate(train_data):\n",
        "  break"
      ],
      "metadata": {
        "id": "ylHEZ6rHGsXv"
      },
      "execution_count": 38,
      "outputs": []
    },
    {
      "cell_type": "code",
      "source": [
        "X_train.shape"
      ],
      "metadata": {
        "colab": {
          "base_uri": "https://localhost:8080/"
        },
        "id": "EjVLzDXTHdPL",
        "outputId": "cb6abc5c-4f03-469c-a652-a6e3dd2d74f7"
      },
      "execution_count": 39,
      "outputs": [
        {
          "output_type": "execute_result",
          "data": {
            "text/plain": [
              "torch.Size([1, 28, 28])"
            ]
          },
          "metadata": {},
          "execution_count": 39
        }
      ]
    },
    {
      "cell_type": "code",
      "source": [
        "x = X_train.reshape(1,1,28,28)"
      ],
      "metadata": {
        "id": "wj4z9-6cHTCD"
      },
      "execution_count": 40,
      "outputs": []
    },
    {
      "cell_type": "code",
      "source": [
        "temp = conv2(conv1(x))"
      ],
      "metadata": {
        "id": "J3yjkUp3M8fi"
      },
      "execution_count": 41,
      "outputs": []
    },
    {
      "cell_type": "code",
      "source": [
        "F.avg_pool2d(temp,2,2).shape"
      ],
      "metadata": {
        "colab": {
          "base_uri": "https://localhost:8080/"
        },
        "id": "uriBGR0yOFXB",
        "outputId": "756a6518-723d-4fb7-cd81-98c651760218"
      },
      "execution_count": 42,
      "outputs": [
        {
          "output_type": "execute_result",
          "data": {
            "text/plain": [
              "torch.Size([1, 16, 12, 12])"
            ]
          },
          "metadata": {},
          "execution_count": 42
        }
      ]
    },
    {
      "cell_type": "code",
      "source": [
        "x_1 = F.relu(conv1(x))"
      ],
      "metadata": {
        "id": "xT5GMkArHUWv"
      },
      "execution_count": 43,
      "outputs": []
    },
    {
      "cell_type": "code",
      "source": [
        "print(x.shape, x_1.shape)"
      ],
      "metadata": {
        "colab": {
          "base_uri": "https://localhost:8080/"
        },
        "id": "F7yYXVeTI4Hi",
        "outputId": "7cb0f511-b48d-489f-a02d-375d79295772"
      },
      "execution_count": 44,
      "outputs": [
        {
          "output_type": "stream",
          "name": "stdout",
          "text": [
            "torch.Size([1, 1, 28, 28]) torch.Size([1, 6, 26, 26])\n"
          ]
        }
      ]
    },
    {
      "cell_type": "code",
      "source": [
        "x_2 = F.max_pool2d(x_1,2,2)"
      ],
      "metadata": {
        "id": "bR3fVSe_I7Mz"
      },
      "execution_count": 45,
      "outputs": []
    },
    {
      "cell_type": "code",
      "source": [
        "x_2.shape"
      ],
      "metadata": {
        "colab": {
          "base_uri": "https://localhost:8080/"
        },
        "id": "QEGwQHmtJAc7",
        "outputId": "62c07ce4-4e48-4136-8ecd-98992109ec6b"
      },
      "execution_count": 46,
      "outputs": [
        {
          "output_type": "execute_result",
          "data": {
            "text/plain": [
              "torch.Size([1, 6, 13, 13])"
            ]
          },
          "metadata": {},
          "execution_count": 46
        }
      ]
    },
    {
      "cell_type": "code",
      "source": [
        "x_3 = F.relu(conv2(x_2))"
      ],
      "metadata": {
        "id": "NqBie5u4JNOI"
      },
      "execution_count": 47,
      "outputs": []
    },
    {
      "cell_type": "code",
      "source": [
        "x_3.shape"
      ],
      "metadata": {
        "colab": {
          "base_uri": "https://localhost:8080/"
        },
        "id": "WHtJbQOGJVAx",
        "outputId": "51274f1d-1e27-459e-d46c-589d320bb122"
      },
      "execution_count": 48,
      "outputs": [
        {
          "output_type": "execute_result",
          "data": {
            "text/plain": [
              "torch.Size([1, 16, 11, 11])"
            ]
          },
          "metadata": {},
          "execution_count": 48
        }
      ]
    },
    {
      "cell_type": "code",
      "source": [
        "x_4 = F.max_pool2d(x_3,2,2)"
      ],
      "metadata": {
        "id": "t870H1dcJWT0"
      },
      "execution_count": 49,
      "outputs": []
    },
    {
      "cell_type": "code",
      "source": [
        "temp = [[1,2],[2,3],[4,5]]"
      ],
      "metadata": {
        "id": "9W-tpwpSS7zd"
      },
      "execution_count": 50,
      "outputs": []
    },
    {
      "cell_type": "code",
      "source": [
        "class ConvolutionalNN(nn.Module):\n",
        "  def __init__(self):\n",
        "    super().__init__()\n",
        "    self.conv1 = nn.Conv2d(1,6,3,1)\n",
        "    self.maxpool1 = nn.MaxPool2d(2,2)\n",
        "    self.conv2 = nn.Conv2d(6,16,3,1)\n",
        "    self.maxpool2 = nn.MaxPool2d(2,2)\n",
        "\n",
        "    self.fc1 = nn.Linear(16*5*5, 120)\n",
        "    self.fc2 = nn.Linear(120,84)\n",
        "    self.fc3 = nn.Linear(84,10)\n",
        "\n",
        "  def forward(self, x):\n",
        "    x = F.relu(self.conv1(x))\n",
        "    x = self.maxpool1(x)\n",
        "    x = F.relu(self.conv2(x))\n",
        "    x = self.maxpool2(x)\n",
        "\n",
        "    x = x.reshape(-1,16*5*5)\n",
        "    x = F.relu(self.fc1(x))\n",
        "    x = F.relu(self.fc2(x))\n",
        "    x = self.fc3(x)\n",
        "    return x\n",
        "\n",
        "    x = F.log_softmax(x, dim = 1)\n",
        "    return x\n",
        "\n"
      ],
      "metadata": {
        "id": "9yBThnQmKXIx"
      },
      "execution_count": 51,
      "outputs": []
    },
    {
      "cell_type": "code",
      "source": [
        "torch.manual_seed(41)\n",
        "model = ConvolutionalNN()\n",
        "criterion = nn.CrossEntropyLoss()\n",
        "optimizer = torch.optim.Adam(model.parameters(), lr = 0.001)"
      ],
      "metadata": {
        "id": "v9NZpcJkUXW8"
      },
      "execution_count": 52,
      "outputs": []
    },
    {
      "cell_type": "code",
      "source": [
        "import time\n",
        "start_time = time.time()\n",
        "\n",
        "# Create Variables To Tracks Things\n",
        "epochs = 5\n",
        "train_losses = []\n",
        "test_losses = []\n",
        "train_correct = []\n",
        "test_correct = []\n",
        "\n",
        "# For Loop of Epochs\n",
        "for i in range(epochs):\n",
        "  trn_corr = 0\n",
        "  tst_corr = 0\n",
        "\n",
        "\n",
        "  # Train\n",
        "  for b,(X_train, y_train) in enumerate(train_loader):\n",
        "    b+=1 # start our batches at 1\n",
        "    y_pred = model(X_train) # get predicted values from the training set. Not flattened 2D\n",
        "    loss = criterion(y_pred, y_train) # how off are we? Compare the predictions to correct answers in y_train\n",
        "\n",
        "    predicted = torch.max(y_pred.data, 1)[1] # add up the number of correct predictions. Indexed off the first point\n",
        "    batch_corr = (predicted == y_train).sum() # how many we got correct from this batch. True = 1, False=0, sum those up\n",
        "    trn_corr += batch_corr # keep track as we go along in training.\n",
        "\n",
        "    # Update our parameters\n",
        "    optimizer.zero_grad()\n",
        "    loss.backward()\n",
        "    optimizer.step()\n",
        "\n",
        "\n",
        "    # Print out some results\n",
        "    if b%600 == 0:\n",
        "      print(f'Epoch: {i}  Batch: {b}  Loss: {loss.item()}')\n",
        "\n",
        "  train_losses.append(loss)\n",
        "  train_correct.append(trn_corr)\n",
        "\n",
        "\n",
        "  # Test\n",
        "  with torch.no_grad(): #No gradient so we don't update our weights and biases with test data\n",
        "    for b,(X_test, y_test) in enumerate(test_loader):\n",
        "      y_val = model(X_test)\n",
        "      predicted = torch.max(y_val.data, 1)[1] # Adding up correct predictions\n",
        "      tst_corr += (predicted == y_test).sum() # T=1 F=0 and sum away\n",
        "\n",
        "\n",
        "  loss = criterion(y_val, y_test)\n",
        "  test_losses.append(loss)\n",
        "  test_correct.append(tst_corr)\n",
        "\n",
        "\n",
        "\n",
        "current_time = time.time()\n",
        "total = current_time - start_time\n",
        "print(f'Training Took: {total/60} minutes!')"
      ],
      "metadata": {
        "colab": {
          "base_uri": "https://localhost:8080/"
        },
        "id": "7iPt0LfL5olX",
        "outputId": "37ec729d-67af-48ec-d268-9c308f47d970"
      },
      "execution_count": 54,
      "outputs": [
        {
          "output_type": "stream",
          "name": "stdout",
          "text": [
            "Epoch: 0  Batch: 600  Loss: 0.16236238181591034\n",
            "Epoch: 0  Batch: 1200  Loss: 0.16415396332740784\n",
            "Epoch: 0  Batch: 1800  Loss: 0.5098981261253357\n",
            "Epoch: 0  Batch: 2400  Loss: 0.11590572446584702\n",
            "Epoch: 0  Batch: 3000  Loss: 0.005982336588203907\n",
            "Epoch: 0  Batch: 3600  Loss: 0.5348214507102966\n",
            "Epoch: 0  Batch: 4200  Loss: 0.005393340718001127\n",
            "Epoch: 0  Batch: 4800  Loss: 0.0014583868905901909\n",
            "Epoch: 0  Batch: 5400  Loss: 0.03396736457943916\n",
            "Epoch: 0  Batch: 6000  Loss: 0.00043186210677959025\n",
            "Epoch: 1  Batch: 600  Loss: 0.002397039206698537\n",
            "Epoch: 1  Batch: 1200  Loss: 0.341083824634552\n",
            "Epoch: 1  Batch: 1800  Loss: 0.0012755367206409574\n",
            "Epoch: 1  Batch: 2400  Loss: 0.0019284680020064116\n",
            "Epoch: 1  Batch: 3000  Loss: 0.04880313202738762\n",
            "Epoch: 1  Batch: 3600  Loss: 0.25365638732910156\n",
            "Epoch: 1  Batch: 4200  Loss: 0.05716976523399353\n",
            "Epoch: 1  Batch: 4800  Loss: 0.0002443505509290844\n",
            "Epoch: 1  Batch: 5400  Loss: 0.00035591336200013757\n",
            "Epoch: 1  Batch: 6000  Loss: 0.25528591871261597\n",
            "Epoch: 2  Batch: 600  Loss: 0.11376402527093887\n",
            "Epoch: 2  Batch: 1200  Loss: 0.008635995909571648\n",
            "Epoch: 2  Batch: 1800  Loss: 0.003102507907897234\n",
            "Epoch: 2  Batch: 2400  Loss: 0.008216319605708122\n",
            "Epoch: 2  Batch: 3000  Loss: 0.015665752813220024\n",
            "Epoch: 2  Batch: 3600  Loss: 0.0005304883816279471\n",
            "Epoch: 2  Batch: 4200  Loss: 0.12753424048423767\n",
            "Epoch: 2  Batch: 4800  Loss: 0.002029737690463662\n",
            "Epoch: 2  Batch: 5400  Loss: 0.04571353271603584\n",
            "Epoch: 2  Batch: 6000  Loss: 0.23210127651691437\n",
            "Epoch: 3  Batch: 600  Loss: 0.0006934757111594081\n",
            "Epoch: 3  Batch: 1200  Loss: 0.014250263571739197\n",
            "Epoch: 3  Batch: 1800  Loss: 0.00025262177223339677\n",
            "Epoch: 3  Batch: 2400  Loss: 2.905002111219801e-05\n",
            "Epoch: 3  Batch: 3000  Loss: 0.0018150315154343843\n",
            "Epoch: 3  Batch: 3600  Loss: 0.0010493854060769081\n",
            "Epoch: 3  Batch: 4200  Loss: 0.026097064837813377\n",
            "Epoch: 3  Batch: 4800  Loss: 5.0337519496679306e-05\n",
            "Epoch: 3  Batch: 5400  Loss: 0.06714227050542831\n",
            "Epoch: 3  Batch: 6000  Loss: 0.026406412944197655\n",
            "Epoch: 4  Batch: 600  Loss: 0.0014421023661270738\n",
            "Epoch: 4  Batch: 1200  Loss: 0.025337666273117065\n",
            "Epoch: 4  Batch: 1800  Loss: 0.2738693952560425\n",
            "Epoch: 4  Batch: 2400  Loss: 0.00047818548046052456\n",
            "Epoch: 4  Batch: 3000  Loss: 0.005752828903496265\n",
            "Epoch: 4  Batch: 3600  Loss: 0.0807754322886467\n",
            "Epoch: 4  Batch: 4200  Loss: 0.0005186627386137843\n",
            "Epoch: 4  Batch: 4800  Loss: 0.012191173620522022\n",
            "Epoch: 4  Batch: 5400  Loss: 0.0070676119066774845\n",
            "Epoch: 4  Batch: 6000  Loss: 0.025446226820349693\n",
            "Training Took: 2.8663395643234253 minutes!\n"
          ]
        }
      ]
    },
    {
      "cell_type": "code",
      "source": [
        "# Graph the loss at epoch\n",
        "train_losses = [tl.item() for tl in train_losses]\n",
        "plt.plot(train_losses, label=\"Training Loss\")\n",
        "plt.plot(test_losses, label=\"Validation Loss\")\n",
        "plt.title(\"Loss at Epoch\")\n",
        "plt.legend()"
      ],
      "metadata": {
        "colab": {
          "base_uri": "https://localhost:8080/",
          "height": 469
        },
        "id": "t2n8yQer69cH",
        "outputId": "6975d8a1-cede-4f3a-a221-b53d13e2589f"
      },
      "execution_count": 59,
      "outputs": [
        {
          "output_type": "execute_result",
          "data": {
            "text/plain": [
              "<matplotlib.legend.Legend at 0x7bb1dc2a3070>"
            ]
          },
          "metadata": {},
          "execution_count": 59
        },
        {
          "output_type": "display_data",
          "data": {
            "text/plain": [
              "<Figure size 640x480 with 1 Axes>"
            ],
            "image/png": "[encoded data removed]"
          },
          "metadata": {}
        }
      ]
    },
    {
      "cell_type": "code",
      "source": [
        "# graph the accuracy at the end of each epoch\n",
        "plt.plot([t/600 for t in train_correct], label=\"Training Accuracy\")\n",
        "plt.plot([t/100 for t in test_correct], label=\"Validation Accuracy\")\n",
        "plt.title(\"Accuracy at the end of each Epoch\")\n",
        "plt.legend()"
      ],
      "metadata": {
        "colab": {
          "base_uri": "https://localhost:8080/",
          "height": 469
        },
        "id": "nR8yqUfM7YlK",
        "outputId": "c14ce476-f99d-4e61-bf23-01f49d678a3a"
      },
      "execution_count": 60,
      "outputs": [
        {
          "output_type": "execute_result",
          "data": {
            "text/plain": [
              "<matplotlib.legend.Legend at 0x7bb1dc2a3880>"
            ]
          },
          "metadata": {},
          "execution_count": 60
        },
        {
          "output_type": "display_data",
          "data": {
            "text/plain": [
              "<Figure size 640x480 with 1 Axes>"
            ],
            "image/png": "[encoded data removed]"
          },
          "metadata": {}
        }
      ]
    },
    {
      "cell_type": "code",
      "source": [
        "test_load_everything = DataLoader(test_data, batch_size=10000, shuffle=False)\n",
        "\n",
        "with torch.no_grad():\n",
        "  correct = 0\n",
        "  for X_test,y_test in test_load_everything:\n",
        "    y_val = model(X_test)\n",
        "    predicted = torch.max(y_val, 1)[1]\n",
        "    correct += (predicted == y_test).sum()\n"
      ],
      "metadata": {
        "id": "YTnwjD9t7dfE"
      },
      "execution_count": 61,
      "outputs": []
    },
    {
      "cell_type": "code",
      "source": [
        "correct.item()"
      ],
      "metadata": {
        "colab": {
          "base_uri": "https://localhost:8080/"
        },
        "id": "NgsEm9Fj7zAb",
        "outputId": "09b8619b-6821-4aea-d438-9af70c7cd150"
      },
      "execution_count": 64,
      "outputs": [
        {
          "output_type": "execute_result",
          "data": {
            "text/plain": [
              "9830"
            ]
          },
          "metadata": {},
          "execution_count": 64
        }
      ]
    },
    {
      "cell_type": "code",
      "source": [
        "test_data[250][0].shape"
      ],
      "metadata": {
        "colab": {
          "base_uri": "https://localhost:8080/"
        },
        "id": "fjZOi89G8MiX",
        "outputId": "a8f67489-9579-4439-fdc0-9181bc2dc010"
      },
      "execution_count": 69,
      "outputs": [
        {
          "output_type": "execute_result",
          "data": {
            "text/plain": [
              "torch.Size([1, 28, 28])"
            ]
          },
          "metadata": {},
          "execution_count": 69
        }
      ]
    },
    {
      "cell_type": "code",
      "source": [
        "plt.imshow(test_data[0][0].reshape(28,28))"
      ],
      "metadata": {
        "colab": {
          "base_uri": "https://localhost:8080/",
          "height": 447
        },
        "id": "qGuwmW7S70JB",
        "outputId": "4534ff74-6358-4de1-ac5d-e638128e9097"
      },
      "execution_count": 76,
      "outputs": [
        {
          "output_type": "execute_result",
          "data": {
            "text/plain": [
              "<matplotlib.image.AxesImage at 0x7bb1d8ec8c40>"
            ]
          },
          "metadata": {},
          "execution_count": 76
        },
        {
          "output_type": "display_data",
          "data": {
            "text/plain": [
              "<Figure size 640x480 with 1 Axes>"
            ],
            "image/png": "[encoded data removed]"
          },
          "metadata": {}
        }
      ]
    },
    {
      "cell_type": "code",
      "source": [
        "with torch.no_grad():\n",
        "  new_prediction = model(test_data[0][0].view(1,1,28,28))"
      ],
      "metadata": {
        "id": "zqnzVZ8J8DQC"
      },
      "execution_count": 77,
      "outputs": []
    },
    {
      "cell_type": "code",
      "source": [
        "new_prediction.argmax()"
      ],
      "metadata": {
        "colab": {
          "base_uri": "https://localhost:8080/"
        },
        "id": "GhYpN_p68bED",
        "outputId": "dec45f14-b715-4625-8e19-57d54bc1d459"
      },
      "execution_count": 78,
      "outputs": [
        {
          "output_type": "execute_result",
          "data": {
            "text/plain": [
              "tensor(7)"
            ]
          },
          "metadata": {},
          "execution_count": 78
        }
      ]
    },
    {
      "cell_type": "code",
      "source": [],
      "metadata": {
        "id": "RzFjtjY_8eJy"
      },
      "execution_count": null,
      "outputs": []
    }
  ]
}